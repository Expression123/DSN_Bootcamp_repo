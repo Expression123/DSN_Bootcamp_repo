{
 "cells": [
  {
   "cell_type": "code",
   "execution_count": 1,
   "id": "57282715",
   "metadata": {},
   "outputs": [],
   "source": [
    "import pandas as pd"
   ]
  },
  {
   "cell_type": "code",
   "execution_count": 2,
   "id": "a2fd2b97",
   "metadata": {},
   "outputs": [],
   "source": [
    "df_train = pd.read_csv(\"Train Dataset .csv\")"
   ]
  },
  {
   "cell_type": "code",
   "execution_count": 3,
   "id": "d2ad0bea",
   "metadata": {},
   "outputs": [],
   "source": [
    "df_train.drop(\"Id\", axis=1, inplace=True)"
   ]
  },
  {
   "cell_type": "code",
   "execution_count": 4,
   "id": "89d4c779",
   "metadata": {},
   "outputs": [],
   "source": [
    "from sklearn.model_selection import train_test_split"
   ]
  },
  {
   "cell_type": "code",
   "execution_count": 5,
   "id": "acf3b7f2",
   "metadata": {},
   "outputs": [],
   "source": [
    "X = df_train.drop(\"target\", axis=1)\n",
    "y = df_train.target"
   ]
  },
  {
   "cell_type": "code",
   "execution_count": 6,
   "id": "91bb8e83",
   "metadata": {},
   "outputs": [],
   "source": [
    "X_train, X_test, y_train, y_test = train_test_split(X, y, test_size=0.2, random_state=42)"
   ]
  },
  {
   "cell_type": "code",
   "execution_count": 7,
   "id": "bb088ce4",
   "metadata": {},
   "outputs": [
    {
     "name": "stdout",
     "output_type": "stream",
     "text": [
      "(5842, 13)\n",
      "(1461, 13)\n"
     ]
    }
   ],
   "source": [
    "print(X_train.shape)\n",
    "print(X_test.shape)"
   ]
  },
  {
   "cell_type": "code",
   "execution_count": 8,
   "id": "91fd3f1e",
   "metadata": {},
   "outputs": [],
   "source": [
    "from sklearn.preprocessing import MinMaxScaler"
   ]
  },
  {
   "cell_type": "code",
   "execution_count": 9,
   "id": "ebf018f1",
   "metadata": {},
   "outputs": [],
   "source": [
    "scaler = MinMaxScaler()"
   ]
  },
  {
   "cell_type": "code",
   "execution_count": 10,
   "id": "bb8f9cf4",
   "metadata": {},
   "outputs": [],
   "source": [
    "X_train = scaler.fit_transform(X_train)"
   ]
  },
  {
   "cell_type": "code",
   "execution_count": 11,
   "id": "4a251629",
   "metadata": {},
   "outputs": [],
   "source": [
    "X_test = scaler.transform(X_test)"
   ]
  },
  {
   "cell_type": "code",
   "execution_count": 12,
   "id": "6552bd57",
   "metadata": {},
   "outputs": [],
   "source": [
    "import keras_tuner as kt\n",
    "from tensorflow.keras.models import Sequential\n",
    "from tensorflow.keras.layers import Dense"
   ]
  },
  {
   "cell_type": "code",
   "execution_count": 13,
   "id": "2d2cd7b4",
   "metadata": {},
   "outputs": [],
   "source": [
    "import tensorflow as tf"
   ]
  },
  {
   "cell_type": "code",
   "execution_count": 14,
   "id": "c963224a",
   "metadata": {},
   "outputs": [],
   "source": [
    "\n",
    "\n",
    "def build_model(hp):\n",
    "    model = Sequential()\n",
    "    # Tune the number of units in the first Dense layer\n",
    "    hp_units = hp.Int('units', min_value=8, max_value=128, step=8)\n",
    "    model.add(Dense(units=hp_units, activation='relu'))\n",
    "    model.add(Dense(6, activation='relu'))\n",
    "    model.add(Dense(1, activation='sigmoid'))\n",
    "\n",
    "    # Tune the learning rate for the optimizer\n",
    "    hp_learning_rate = hp.Choice('learning_rate', values=[1e-2, 1e-3, 1e-4])\n",
    "\n",
    "    model.compile(optimizer=tf.keras.optimizers.Adam(learning_rate=hp_learning_rate),\n",
    "                  loss='binary_crossentropy',\n",
    "                  metrics=['accuracy'])\n",
    "\n",
    "    return model"
   ]
  },
  {
   "cell_type": "code",
   "execution_count": 15,
   "id": "99aeb89f",
   "metadata": {},
   "outputs": [
    {
     "name": "stdout",
     "output_type": "stream",
     "text": [
      "Reloading Tuner from my_dir\\heart_disease_detection\\tuner0.json\n",
      "Best units: 32\n",
      "Best learning rate: 0.001\n"
     ]
    }
   ],
   "source": [
    "tuner = kt.Hyperband(build_model,\n",
    "                     objective='val_accuracy',\n",
    "                     max_epochs=10,\n",
    "                     factor=3,\n",
    "                     directory='my_dir',\n",
    "                     project_name='heart_disease_detection')\n",
    "\n",
    "tuner.search(X_train, y_train, epochs=10, validation_data=(X_test, y_test))\n",
    "\n",
    "# Get the best model and hyper-parameters\n",
    "best_hps = tuner.get_best_hyperparameters()[0]\n",
    "print(\"Best units:\", best_hps.get('units'))\n",
    "print(\"Best learning rate:\", best_hps.get('learning_rate'))"
   ]
  },
  {
   "cell_type": "code",
   "execution_count": 16,
   "id": "370a785a",
   "metadata": {},
   "outputs": [],
   "source": [
    "model = tuner.hypermodel.build(best_hps)\n"
   ]
  },
  {
   "cell_type": "code",
   "execution_count": 17,
   "id": "f655f391",
   "metadata": {},
   "outputs": [],
   "source": [
    "from tensorflow.keras.callbacks import EarlyStopping"
   ]
  },
  {
   "cell_type": "code",
   "execution_count": 18,
   "id": "4127fc1d",
   "metadata": {},
   "outputs": [],
   "source": [
    "early_stop = EarlyStopping(monitor='val_loss', mode='min', verbose=1, patience=25)"
   ]
  },
  {
   "cell_type": "code",
   "execution_count": 19,
   "id": "13227050",
   "metadata": {},
   "outputs": [
    {
     "name": "stdout",
     "output_type": "stream",
     "text": [
      "Epoch 1/10\n",
      "183/183 [==============================] - 6s 9ms/step - loss: 0.5074 - accuracy: 0.7458 - val_loss: 0.3793 - val_accuracy: 0.8220\n",
      "Epoch 2/10\n",
      "183/183 [==============================] - 1s 5ms/step - loss: 0.3585 - accuracy: 0.8107 - val_loss: 0.3124 - val_accuracy: 0.8152\n",
      "Epoch 3/10\n",
      "183/183 [==============================] - 1s 7ms/step - loss: 0.3158 - accuracy: 0.8047 - val_loss: 0.2905 - val_accuracy: 0.8275\n",
      "Epoch 4/10\n",
      "183/183 [==============================] - 1s 5ms/step - loss: 0.3005 - accuracy: 0.8040 - val_loss: 0.2792 - val_accuracy: 0.8159\n",
      "Epoch 5/10\n",
      "183/183 [==============================] - 1s 5ms/step - loss: 0.2917 - accuracy: 0.8078 - val_loss: 0.2728 - val_accuracy: 0.8172\n",
      "Epoch 6/10\n",
      "183/183 [==============================] - 1s 5ms/step - loss: 0.2839 - accuracy: 0.8100 - val_loss: 0.2685 - val_accuracy: 0.8234\n",
      "Epoch 7/10\n",
      "183/183 [==============================] - 1s 5ms/step - loss: 0.2793 - accuracy: 0.8115 - val_loss: 0.2631 - val_accuracy: 0.8255\n",
      "Epoch 8/10\n",
      "183/183 [==============================] - 1s 5ms/step - loss: 0.2747 - accuracy: 0.8158 - val_loss: 0.2605 - val_accuracy: 0.8104\n",
      "Epoch 9/10\n",
      "183/183 [==============================] - 1s 4ms/step - loss: 0.2718 - accuracy: 0.8117 - val_loss: 0.2582 - val_accuracy: 0.8118\n",
      "Epoch 10/10\n",
      "183/183 [==============================] - 1s 5ms/step - loss: 0.2699 - accuracy: 0.8107 - val_loss: 0.2583 - val_accuracy: 0.8111\n"
     ]
    },
    {
     "data": {
      "text/plain": [
       "<keras.src.callbacks.History at 0x2d0c1f23310>"
      ]
     },
     "execution_count": 19,
     "metadata": {},
     "output_type": "execute_result"
    }
   ],
   "source": [
    "model.fit(X_train, y_train, epochs=10, validation_data=(X_test, y_test), callbacks=early_stop, verbose=1)"
   ]
  },
  {
   "cell_type": "code",
   "execution_count": null,
   "id": "4466ae3f",
   "metadata": {},
   "outputs": [],
   "source": []
  },
  {
   "cell_type": "code",
   "execution_count": 20,
   "id": "d9d4af08",
   "metadata": {},
   "outputs": [
    {
     "data": {
      "text/plain": [
       "<Axes: >"
      ]
     },
     "execution_count": 20,
     "metadata": {},
     "output_type": "execute_result"
    },
    {
     "data": {
      "image/png": "[encoded data removed]",
      "text/plain": [
       "<Figure size 640x480 with 1 Axes>"
      ]
     },
     "metadata": {},
     "output_type": "display_data"
    }
   ],
   "source": [
    "model_loss = pd.DataFrame(model.history.history)\n",
    "model_loss.plot()"
   ]
  },
  {
   "cell_type": "code",
   "execution_count": null,
   "id": "e2f5f796",
   "metadata": {},
   "outputs": [],
   "source": []
  },
  {
   "cell_type": "code",
   "execution_count": 21,
   "id": "389c713a",
   "metadata": {},
   "outputs": [
    {
     "name": "stdout",
     "output_type": "stream",
     "text": [
      "46/46 [==============================] - 0s 3ms/step\n"
     ]
    }
   ],
   "source": [
    "model_predictions = model.predict(X_test)"
   ]
  },
  {
   "cell_type": "code",
   "execution_count": 22,
   "id": "f414c400",
   "metadata": {},
   "outputs": [
    {
     "data": {
      "text/plain": [
       "array([[0.46770048],\n",
       "       [0.9998122 ],\n",
       "       [0.99767846],\n",
       "       ...,\n",
       "       [0.99999887],\n",
       "       [0.5093167 ],\n",
       "       [0.520412  ]], dtype=float32)"
      ]
     },
     "execution_count": 22,
     "metadata": {},
     "output_type": "execute_result"
    }
   ],
   "source": [
    "model_predictions"
   ]
  },
  {
   "cell_type": "code",
   "execution_count": 23,
   "id": "6cd28e76",
   "metadata": {},
   "outputs": [],
   "source": [
    "binary_predictions = (model_predictions >= 0.6).astype(int)"
   ]
  },
  {
   "cell_type": "code",
   "execution_count": 24,
   "id": "bc40a7e8",
   "metadata": {},
   "outputs": [],
   "source": [
    "from sklearn.metrics import classification_report, accuracy_score"
   ]
  },
  {
   "cell_type": "code",
   "execution_count": 25,
   "id": "0b917774",
   "metadata": {},
   "outputs": [
    {
     "name": "stdout",
     "output_type": "stream",
     "text": [
      "              precision    recall  f1-score   support\n",
      "\n",
      "           0       0.49      0.99      0.66       260\n",
      "           1       1.00      0.78      0.87      1201\n",
      "\n",
      "    accuracy                           0.82      1461\n",
      "   macro avg       0.75      0.89      0.77      1461\n",
      "weighted avg       0.91      0.82      0.84      1461\n",
      "\n"
     ]
    }
   ],
   "source": [
    "print(classification_report(y_test, binary_predictions))"
   ]
  },
  {
   "cell_type": "code",
   "execution_count": 26,
   "id": "8c41b02e",
   "metadata": {},
   "outputs": [
    {
     "name": "stdout",
     "output_type": "stream",
     "text": [
      "0.8165639972621492\n"
     ]
    }
   ],
   "source": [
    "print(accuracy_score(y_test, binary_predictions))"
   ]
  },
  {
   "cell_type": "code",
   "execution_count": 27,
   "id": "4b3ea611",
   "metadata": {},
   "outputs": [],
   "source": [
    "test_df = pd.read_csv(\"Test Dataset.csv\")"
   ]
  },
  {
   "cell_type": "code",
   "execution_count": 28,
   "id": "edcba255",
   "metadata": {},
   "outputs": [],
   "source": [
    "test_df_id = test_df.id"
   ]
  },
  {
   "cell_type": "code",
   "execution_count": 29,
   "id": "5ff29ae2",
   "metadata": {},
   "outputs": [],
   "source": [
    "test_df.drop(\"id\", inplace=True, axis=1)"
   ]
  },
  {
   "cell_type": "code",
   "execution_count": 30,
   "id": "e36e005c",
   "metadata": {},
   "outputs": [
    {
     "data": {
      "text/plain": [
       "(2697, 13)"
      ]
     },
     "execution_count": 30,
     "metadata": {},
     "output_type": "execute_result"
    }
   ],
   "source": [
    "test_df.shape"
   ]
  },
  {
   "cell_type": "code",
   "execution_count": 31,
   "id": "a8e5aa9b",
   "metadata": {},
   "outputs": [],
   "source": [
    "test_df.rename(columns={\"age\": \"Age\", \"sex\": \"Sex\",}, inplace=True)"
   ]
  },
  {
   "cell_type": "code",
   "execution_count": 32,
   "id": "0f473f18",
   "metadata": {},
   "outputs": [
    {
     "data": {
      "text/html": [
       "<div>\n",
       "<style scoped>\n",
       "    .dataframe tbody tr th:only-of-type {\n",
       "        vertical-align: middle;\n",
       "    }\n",
       "\n",
       "    .dataframe tbody tr th {\n",
       "        vertical-align: top;\n",
       "    }\n",
       "\n",
       "    .dataframe thead th {\n",
       "        text-align: right;\n",
       "    }\n",
       "</style>\n",
       "<table border=\"1\" class=\"dataframe\">\n",
       "  <thead>\n",
       "    <tr style=\"text-align: right;\">\n",
       "      <th></th>\n",
       "      <th>Age</th>\n",
       "      <th>Sex</th>\n",
       "      <th>cp</th>\n",
       "      <th>trestbps</th>\n",
       "      <th>chol</th>\n",
       "      <th>fbs</th>\n",
       "      <th>restecg</th>\n",
       "      <th>thalach</th>\n",
       "      <th>exang</th>\n",
       "      <th>oldpeak</th>\n",
       "      <th>slope</th>\n",
       "      <th>ca</th>\n",
       "      <th>thal</th>\n",
       "    </tr>\n",
       "  </thead>\n",
       "  <tbody>\n",
       "    <tr>\n",
       "      <th>0</th>\n",
       "      <td>70</td>\n",
       "      <td>1</td>\n",
       "      <td>0</td>\n",
       "      <td>163</td>\n",
       "      <td>495</td>\n",
       "      <td>0</td>\n",
       "      <td>2</td>\n",
       "      <td>170</td>\n",
       "      <td>1</td>\n",
       "      <td>2.0</td>\n",
       "      <td>1</td>\n",
       "      <td>0</td>\n",
       "      <td>1</td>\n",
       "    </tr>\n",
       "    <tr>\n",
       "      <th>1</th>\n",
       "      <td>61</td>\n",
       "      <td>1</td>\n",
       "      <td>0</td>\n",
       "      <td>131</td>\n",
       "      <td>238</td>\n",
       "      <td>0</td>\n",
       "      <td>2</td>\n",
       "      <td>74</td>\n",
       "      <td>1</td>\n",
       "      <td>4.9</td>\n",
       "      <td>2</td>\n",
       "      <td>2</td>\n",
       "      <td>2</td>\n",
       "    </tr>\n",
       "    <tr>\n",
       "      <th>2</th>\n",
       "      <td>53</td>\n",
       "      <td>1</td>\n",
       "      <td>0</td>\n",
       "      <td>95</td>\n",
       "      <td>558</td>\n",
       "      <td>1</td>\n",
       "      <td>1</td>\n",
       "      <td>73</td>\n",
       "      <td>1</td>\n",
       "      <td>0.7</td>\n",
       "      <td>1</td>\n",
       "      <td>1</td>\n",
       "      <td>0</td>\n",
       "    </tr>\n",
       "    <tr>\n",
       "      <th>3</th>\n",
       "      <td>37</td>\n",
       "      <td>0</td>\n",
       "      <td>1</td>\n",
       "      <td>178</td>\n",
       "      <td>287</td>\n",
       "      <td>0</td>\n",
       "      <td>1</td>\n",
       "      <td>192</td>\n",
       "      <td>1</td>\n",
       "      <td>5.7</td>\n",
       "      <td>1</td>\n",
       "      <td>0</td>\n",
       "      <td>0</td>\n",
       "    </tr>\n",
       "    <tr>\n",
       "      <th>4</th>\n",
       "      <td>35</td>\n",
       "      <td>0</td>\n",
       "      <td>3</td>\n",
       "      <td>104</td>\n",
       "      <td>281</td>\n",
       "      <td>0</td>\n",
       "      <td>0</td>\n",
       "      <td>122</td>\n",
       "      <td>0</td>\n",
       "      <td>1.3</td>\n",
       "      <td>1</td>\n",
       "      <td>4</td>\n",
       "      <td>3</td>\n",
       "    </tr>\n",
       "  </tbody>\n",
       "</table>\n",
       "</div>"
      ],
      "text/plain": [
       "   Age  Sex  cp  trestbps  chol  fbs  restecg  thalach  exang  oldpeak  slope  \\\n",
       "0   70    1   0       163   495    0        2      170      1      2.0      1   \n",
       "1   61    1   0       131   238    0        2       74      1      4.9      2   \n",
       "2   53    1   0        95   558    1        1       73      1      0.7      1   \n",
       "3   37    0   1       178   287    0        1      192      1      5.7      1   \n",
       "4   35    0   3       104   281    0        0      122      0      1.3      1   \n",
       "\n",
       "   ca  thal  \n",
       "0   0     1  \n",
       "1   2     2  \n",
       "2   1     0  \n",
       "3   0     0  \n",
       "4   4     3  "
      ]
     },
     "execution_count": 32,
     "metadata": {},
     "output_type": "execute_result"
    }
   ],
   "source": [
    "test_df.head()"
   ]
  },
  {
   "cell_type": "code",
   "execution_count": 33,
   "id": "f71f0f4d",
   "metadata": {},
   "outputs": [],
   "source": [
    "test_df = scaler.transform(test_df)"
   ]
  },
  {
   "cell_type": "code",
   "execution_count": 34,
   "id": "29abfef8",
   "metadata": {},
   "outputs": [
    {
     "name": "stdout",
     "output_type": "stream",
     "text": [
      "85/85 [==============================] - 0s 4ms/step\n"
     ]
    }
   ],
   "source": [
    "test_predictions  = model.predict(test_df)"
   ]
  },
  {
   "cell_type": "code",
   "execution_count": 35,
   "id": "26831a99",
   "metadata": {},
   "outputs": [],
   "source": [
    "test_predictions = (test_predictions >= 0.6).astype(int)"
   ]
  },
  {
   "cell_type": "code",
   "execution_count": 36,
   "id": "fd6c5a1a",
   "metadata": {},
   "outputs": [],
   "source": [
    "answers_df = pd.DataFrame(test_predictions)"
   ]
  },
  {
   "cell_type": "code",
   "execution_count": 37,
   "id": "3666b9db",
   "metadata": {},
   "outputs": [],
   "source": [
    "answers_df = pd.concat([test_df_id, answers_df], axis=1)"
   ]
  },
  {
   "cell_type": "code",
   "execution_count": 38,
   "id": "0ee50144",
   "metadata": {},
   "outputs": [
    {
     "data": {
      "text/html": [
       "<div>\n",
       "<style scoped>\n",
       "    .dataframe tbody tr th:only-of-type {\n",
       "        vertical-align: middle;\n",
       "    }\n",
       "\n",
       "    .dataframe tbody tr th {\n",
       "        vertical-align: top;\n",
       "    }\n",
       "\n",
       "    .dataframe thead th {\n",
       "        text-align: right;\n",
       "    }\n",
       "</style>\n",
       "<table border=\"1\" class=\"dataframe\">\n",
       "  <thead>\n",
       "    <tr style=\"text-align: right;\">\n",
       "      <th></th>\n",
       "      <th>id</th>\n",
       "      <th>0</th>\n",
       "    </tr>\n",
       "  </thead>\n",
       "  <tbody>\n",
       "    <tr>\n",
       "      <th>0</th>\n",
       "      <td>16501</td>\n",
       "      <td>1</td>\n",
       "    </tr>\n",
       "    <tr>\n",
       "      <th>1</th>\n",
       "      <td>10444</td>\n",
       "      <td>1</td>\n",
       "    </tr>\n",
       "    <tr>\n",
       "      <th>2</th>\n",
       "      <td>14288</td>\n",
       "      <td>1</td>\n",
       "    </tr>\n",
       "    <tr>\n",
       "      <th>3</th>\n",
       "      <td>10409</td>\n",
       "      <td>1</td>\n",
       "    </tr>\n",
       "    <tr>\n",
       "      <th>4</th>\n",
       "      <td>17330</td>\n",
       "      <td>0</td>\n",
       "    </tr>\n",
       "    <tr>\n",
       "      <th>...</th>\n",
       "      <td>...</td>\n",
       "      <td>...</td>\n",
       "    </tr>\n",
       "    <tr>\n",
       "      <th>2692</th>\n",
       "      <td>14964</td>\n",
       "      <td>0</td>\n",
       "    </tr>\n",
       "    <tr>\n",
       "      <th>2693</th>\n",
       "      <td>16774</td>\n",
       "      <td>1</td>\n",
       "    </tr>\n",
       "    <tr>\n",
       "      <th>2694</th>\n",
       "      <td>18884</td>\n",
       "      <td>1</td>\n",
       "    </tr>\n",
       "    <tr>\n",
       "      <th>2695</th>\n",
       "      <td>10000</td>\n",
       "      <td>1</td>\n",
       "    </tr>\n",
       "    <tr>\n",
       "      <th>2696</th>\n",
       "      <td>17660</td>\n",
       "      <td>0</td>\n",
       "    </tr>\n",
       "  </tbody>\n",
       "</table>\n",
       "<p>2697 rows × 2 columns</p>\n",
       "</div>"
      ],
      "text/plain": [
       "         id  0\n",
       "0     16501  1\n",
       "1     10444  1\n",
       "2     14288  1\n",
       "3     10409  1\n",
       "4     17330  0\n",
       "...     ... ..\n",
       "2692  14964  0\n",
       "2693  16774  1\n",
       "2694  18884  1\n",
       "2695  10000  1\n",
       "2696  17660  0\n",
       "\n",
       "[2697 rows x 2 columns]"
      ]
     },
     "execution_count": 38,
     "metadata": {},
     "output_type": "execute_result"
    }
   ],
   "source": [
    "# answers_df = pd.DataFrame(test_predictions)\n",
    "answers_df"
   ]
  },
  {
   "cell_type": "code",
   "execution_count": 39,
   "id": "1e70d771",
   "metadata": {},
   "outputs": [],
   "source": [
    "answers_df.rename(columns={\"id\":\"ID\", 0: \"Target\"}, inplace=True)"
   ]
  },
  {
   "cell_type": "code",
   "execution_count": 40,
   "id": "f4b44827",
   "metadata": {},
   "outputs": [],
   "source": [
    "tense_tuning_csv = answers_df.to_csv(\"DSN_tense_tuning_3.csv\", index=False)"
   ]
  },
  {
   "cell_type": "code",
   "execution_count": null,
   "id": "d6be47bf",
   "metadata": {},
   "outputs": [],
   "source": [
    "# answers_df.rename(columns={\"id\":\"ID\", 0: \"Target\"}, inplace=True)"
   ]
  },
  {
   "cell_type": "code",
   "execution_count": null,
   "id": "f8f09311",
   "metadata": {},
   "outputs": [],
   "source": []
  },
  {
   "cell_type": "code",
   "execution_count": null,
   "id": "824353ab",
   "metadata": {},
   "outputs": [],
   "source": []
  }
 ],
 "metadata": {
  "kernelspec": {
   "display_name": "Python (tensorflow_env)",
   "language": "python",
   "name": "tensorflow_env"
  },
  "language_info": {
   "codemirror_mode": {
    "name": "ipython",
    "version": 3
   },
   "file_extension": ".py",
   "mimetype": "text/x-python",
   "name": "python",
   "nbconvert_exporter": "python",
   "pygments_lexer": "ipython3",
   "version": "3.8.19"
  }
 },
 "nbformat": 4,
 "nbformat_minor": 5
}
